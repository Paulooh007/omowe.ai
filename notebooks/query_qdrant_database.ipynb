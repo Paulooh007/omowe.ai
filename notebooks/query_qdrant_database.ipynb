{
  "cells": [
    {
      "cell_type": "markdown",
      "metadata": {
        "id": "QR0WLeacoDZK"
      },
      "source": [
        "[![Open In Colab](https://colab.research.google.com/assets/colab-badge.svg)](https://colab.research.google.com/github/pinecone-io/examples/blob/master/search/multilingual/cohere-multilingual/cohere-multilingual-search.ipynb) [![Open nbviewer](https://raw.githubusercontent.com/pinecone-io/examples/master/assets/nbviewer-shield.svg)](https://nbviewer.org/github/pinecone-io/examples/blob/master/search/multilingual/cohere-multilingual/cohere-multilingual-search.ipynb)"
      ]
    },
    {
      "cell_type": "code",
      "execution_count": 1,
      "metadata": {
        "id": "Dlic9TAaRZOK",
        "colab": {
          "base_uri": "https://localhost:8080/"
        },
        "outputId": "053a5328-26c7-4d81-f050-540adba39e4b"
      },
      "outputs": [
        {
          "output_type": "stream",
          "name": "stdout",
          "text": [
            "\u001b[2K     \u001b[90m━━━━━━━━━━━━━━━━━━━━━━━━━━━━━━━━━━━━━━━\u001b[0m \u001b[32m126.9/126.9 kB\u001b[0m \u001b[31m7.7 MB/s\u001b[0m eta \u001b[36m0:00:00\u001b[0m\n",
            "\u001b[2K     \u001b[90m━━━━━━━━━━━━━━━━━━━━━━━━━━━━━━━━━━━━━━━━\u001b[0m \u001b[32m1.0/1.0 MB\u001b[0m \u001b[31m36.7 MB/s\u001b[0m eta \u001b[36m0:00:00\u001b[0m\n",
            "\u001b[2K     \u001b[90m━━━━━━━━━━━━━━━━━━━━━━━━━━━━━━━━━━━━━━━━\u001b[0m \u001b[32m2.4/2.4 MB\u001b[0m \u001b[31m80.0 MB/s\u001b[0m eta \u001b[36m0:00:00\u001b[0m\n",
            "\u001b[2K     \u001b[90m━━━━━━━━━━━━━━━━━━━━━━━━━━━━━━━━━━━━━━━━\u001b[0m \u001b[32m75.3/75.3 kB\u001b[0m \u001b[31m9.5 MB/s\u001b[0m eta \u001b[36m0:00:00\u001b[0m\n",
            "\u001b[2K     \u001b[90m━━━━━━━━━━━━━━━━━━━━━━━━━━━━━━━━━━━━━━\u001b[0m \u001b[32m149.6/149.6 kB\u001b[0m \u001b[31m19.3 MB/s\u001b[0m eta \u001b[36m0:00:00\u001b[0m\n",
            "\u001b[2K     \u001b[90m━━━━━━━━━━━━━━━━━━━━━━━━━━━━━━━━━━━━━━\u001b[0m \u001b[32m268.8/268.8 kB\u001b[0m \u001b[31m30.7 MB/s\u001b[0m eta \u001b[36m0:00:00\u001b[0m\n",
            "\u001b[2K     \u001b[90m━━━━━━━━━━━━━━━━━━━━━━━━━━━━━━━━━━━━━━\u001b[0m \u001b[32m114.5/114.5 kB\u001b[0m \u001b[31m14.8 MB/s\u001b[0m eta \u001b[36m0:00:00\u001b[0m\n",
            "\u001b[2K     \u001b[90m━━━━━━━━━━━━━━━━━━━━━━━━━━━━━━━━━━━━━━\u001b[0m \u001b[32m302.4/302.4 kB\u001b[0m \u001b[31m33.9 MB/s\u001b[0m eta \u001b[36m0:00:00\u001b[0m\n",
            "\u001b[2K     \u001b[90m━━━━━━━━━━━━━━━━━━━━━━━━━━━━━━━━━━━━━━━━\u001b[0m \u001b[32m70.6/70.6 kB\u001b[0m \u001b[31m8.8 MB/s\u001b[0m eta \u001b[36m0:00:00\u001b[0m\n",
            "\u001b[2K     \u001b[90m━━━━━━━━━━━━━━━━━━━━━━━━━━━━━━━━━━━━━━━━\u001b[0m \u001b[32m57.5/57.5 kB\u001b[0m \u001b[31m7.8 MB/s\u001b[0m eta \u001b[36m0:00:00\u001b[0m\n",
            "\u001b[2K     \u001b[90m━━━━━━━━━━━━━━━━━━━━━━━━━━━━━━━━━━━━━━━━\u001b[0m \u001b[32m58.3/58.3 kB\u001b[0m \u001b[31m7.0 MB/s\u001b[0m eta \u001b[36m0:00:00\u001b[0m\n",
            "\u001b[?25h"
          ]
        }
      ],
      "source": [
        "!pip install -qU cohere qdrant-client"
      ]
    },
    {
      "cell_type": "code",
      "source": [
        "import os\n",
        "import cohere\n",
        "from qdrant_client import QdrantClient\n",
        "from qdrant_client import models\n",
        "from qdrant_client.http import models as rest"
      ],
      "metadata": {
        "id": "pKmqCd0fHXdf"
      },
      "execution_count": 2,
      "outputs": []
    },
    {
      "cell_type": "code",
      "source": [
        "# load environment variables\n",
        "\n",
        "QDRANT_API_KEY = \"qbcUYNr2s4Q6Mci7i4pMN9KXnd9IiTvDdEWyRba3DaaRn8olA2hDUQ\"\n",
        "COHERE_API_KEY = \"DS7FcYkyVyVgxyKxJeoRwLa6EWU76QR5g4YSn6Fv\" "
      ],
      "metadata": {
        "id": "0ucaxu2THcap"
      },
      "execution_count": 3,
      "outputs": []
    },
    {
      "cell_type": "code",
      "source": [
        "co = cohere.Client(COHERE_API_KEY)"
      ],
      "metadata": {
        "id": "bhfDjOCzHx3a"
      },
      "execution_count": 8,
      "outputs": []
    },
    {
      "cell_type": "code",
      "source": [
        "qdrant_client = QdrantClient(\n",
        "    url=\"https://abe27875-57da-4af8-85f9-2a50b4aaaf19.us-east-1-0.aws.cloud.qdrant.io:6333\", \n",
        "    api_key=QDRANT_API_KEY,\n",
        "    prefer_grpc=True,\n",
        ")"
      ],
      "metadata": {
        "id": "gp1D_VOEH3qf"
      },
      "execution_count": 4,
      "outputs": []
    },
    {
      "cell_type": "code",
      "source": [
        "MLLM_MODEL = \"multilingual-22-12\""
      ],
      "metadata": {
        "id": "h4H1d22uBglX"
      },
      "execution_count": 5,
      "outputs": []
    },
    {
      "cell_type": "code",
      "source": [
        "def query_knowledge_base(question, lang = None):\n",
        "  query_embeddings = co.embed(\n",
        "    texts=[question],\n",
        "    model=MLLM_MODEL,\n",
        "  )\n",
        "  query_filter = None\n",
        "\n",
        "\n",
        "  if lang:\n",
        "    query_filter = models.Filter(\n",
        "        must=[\n",
        "            models.FieldCondition(\n",
        "                key=\"lang\",\n",
        "                match=models.MatchValue(\n",
        "                    value=\"yo\",\n",
        "                ),\n",
        "            )\n",
        "        ]\n",
        "    )\n",
        "\n",
        "  result = qdrant_client.search(\n",
        "    collection_name=\"wiki-embed\",\n",
        "    query_filter = query_filter, \n",
        "    search_params=models.SearchParams(\n",
        "        hnsw_ef=128,\n",
        "        exact=False\n",
        "    ),\n",
        "    query_vector=query_embeddings.embeddings[0],\n",
        "    limit=10,\n",
        "  )\n",
        "\n",
        "  return result\n",
        "\n",
        "\n"
      ],
      "metadata": {
        "id": "UalCJ4zw6_VQ"
      },
      "execution_count": 6,
      "outputs": []
    },
    {
      "cell_type": "code",
      "source": [
        "result = query_knowledge_base(\"The history of America\")"
      ],
      "metadata": {
        "id": "IbxJp6Cu8pl1"
      },
      "execution_count": 9,
      "outputs": []
    },
    {
      "cell_type": "code",
      "source": [
        "# https://yo.wikipedia.org/wiki/%C3%8Ct%C3%A0n_il%E1%BA%B9%CC%80_N%C3%A0%C3%ACj%C3%ADr%C3%AD%C3%A0"
      ],
      "metadata": {
        "id": "27wr4509-Nyt"
      },
      "execution_count": null,
      "outputs": []
    },
    {
      "cell_type": "code",
      "source": [
        "# Who is Samuel Ajaji Crowder\n",
        "# Tell me about Chinua Achebe and his works\n",
        "# Who was president between 2015 and ----\n",
        "# I want to know the past presidents of America"
      ],
      "metadata": {
        "id": "7yR_57QIawJc"
      },
      "execution_count": null,
      "outputs": []
    },
    {
      "cell_type": "code",
      "source": [
        "for _ in range(10):\n",
        "  print(result[_].payload[\"url\"])"
      ],
      "metadata": {
        "colab": {
          "base_uri": "https://localhost:8080/"
        },
        "id": "SAJ8HsQCa_Cn",
        "outputId": "e6c2d5ea-a803-4918-ea99-cdbc245b1091"
      },
      "execution_count": 10,
      "outputs": [
        {
          "output_type": "stream",
          "name": "stdout",
          "text": [
            "https://en.wikipedia.org/wiki?curid=3434750\n",
            "https://en.wikipedia.org/wiki?curid=3434750\n",
            "https://en.wikipedia.org/wiki?curid=3434750\n",
            "https://en.wikipedia.org/wiki?curid=3434750\n",
            "https://en.wikipedia.org/wiki?curid=31717\n",
            "https://en.wikipedia.org/wiki?curid=3434750\n",
            "https://en.wikipedia.org/wiki?curid=3434750\n",
            "https://en.wikipedia.org/wiki?curid=3434750\n",
            "https://en.wikipedia.org/wiki?curid=3434750\n",
            "https://en.wikipedia.org/wiki?curid=3434750\n"
          ]
        }
      ]
    },
    {
      "cell_type": "code",
      "source": [
        " text = \"\"\"\n",
        "Photosynthesis is a process used by plants and other organisms to convert light energy into chemical energy that, through cellular respiration, can later be released to fuel the organism's activities. Some of this chemical energy is stored in carbohydrate molecules, such as sugars and starches, which are synthesized from carbon dioxide and water – hence the name photosynthesis, from the Greek phōs (φῶς), \"light\", and synthesis (σύνθεσις), \"putting together\".[1][2][3] Most plants, algae, and cyanobacteria perform photosynthesis; such organisms are called photoautotrophs. Photosynthesis is largely responsible for producing and maintaining the oxygen content of the Earth's atmosphere, and supplies most of the energy necessary for life on Earth.[4]\n",
        "\n",
        "Although photosynthesis is performed differently by different species, the process always begins when energy from light is absorbed by proteins called reaction centers that contain green chlorophyll (and other colored) pigments/chromophores. In plants, these proteins are held inside organelles called chloroplasts, which are most abundant in leaf cells, while in bacteria they are embedded in the plasma membrane. In these light-dependent reactions, some energy is used to strip electrons from suitable substances, such as water, producing oxygen gas. The hydrogen freed by the splitting of water is used in the creation of two further compounds that serve as short-term stores of energy, enabling its transfer to drive other reactions: these compounds are reduced nicotinamide adenine dinucleotide phosphate (NADPH) and adenosine triphosphate (ATP), the \"energy currency\" of cells.\n",
        "\n",
        "In plants, algae and cyanobacteria, sugars are synthesized by a subsequent sequence of light-independent reactions called the Calvin cycle. In the Calvin cycle, atmospheric carbon dioxide is incorporated into already existing organic carbon compounds, such as ribulose bisphosphate (RuBP).[5] Using the ATP and NADPH produced by the light-dependent reactions, the resulting compounds are then reduced and removed to form further carbohydrates, such as glucose. In other bacteria, different mechanisms such as the reverse Krebs cycle are used to achieve the same end.\n",
        "\"\"\""
      ],
      "metadata": {
        "id": "TSmssyFxl4LZ"
      },
      "execution_count": null,
      "outputs": []
    },
    {
      "cell_type": "code",
      "source": [],
      "metadata": {
        "id": "n2Mck-xImbmq"
      },
      "execution_count": null,
      "outputs": []
    },
    {
      "cell_type": "code",
      "source": [
        "response = co.summarize(\n",
        "    text= text,\n",
        "    model='summarize-xlarge',\n",
        "    length='medium',\n",
        "    format='bullets',\n",
        "    extractiveness='high',\n",
        "    temperature=0.3,\n",
        "    additional_command=None,\n",
        ")"
      ],
      "metadata": {
        "id": "VNhABahLl1WJ"
      },
      "execution_count": null,
      "outputs": []
    },
    {
      "cell_type": "code",
      "source": [
        "response.summary"
      ],
      "metadata": {
        "colab": {
          "base_uri": "https://localhost:8080/",
          "height": 107
        },
        "id": "58s8xa8qmmKK",
        "outputId": "e5c9f1ea-9975-48a6-c3c7-0e5a2ac70f28"
      },
      "execution_count": null,
      "outputs": [
        {
          "output_type": "execute_result",
          "data": {
            "text/plain": [
              "'- Photosynthesis is a process used by plants and other organisms to convert light energy into chemical energy that, through cellular respiration, can later be released to fuel the organism\\'s activities.\\n- Some of this chemical energy is stored in carbohydrate molecules, such as sugars and starches, which are synthesized from carbon dioxide and water – hence the name photosynthesis, from the Greek phōs (φῶς), \"light\", and synthesis (σύνθεσις), \"putting together\".\\n- Most plants, algae, and cyanobacteria perform photosynthesis; such organisms are called photoautotrophs.\\n- Photosynthesis is largely responsible for producing and maintaining the oxygen content of the Earth\\'s atmosphere, and supplies most of the energy necessary for life on Earth.'"
            ],
            "application/vnd.google.colaboratory.intrinsic+json": {
              "type": "string"
            }
          },
          "metadata": {},
          "execution_count": 93
        }
      ]
    },
    {
      "cell_type": "markdown",
      "metadata": {
        "id": "AB392qq0oDZb"
      },
      "source": [
        "---"
      ]
    }
  ],
  "metadata": {
    "colab": {
      "provenance": []
    },
    "kernelspec": {
      "display_name": "ml",
      "language": "python",
      "name": "python3"
    },
    "language_info": {
      "codemirror_mode": {
        "name": "ipython",
        "version": 3
      },
      "file_extension": ".py",
      "mimetype": "text/x-python",
      "name": "python",
      "nbconvert_exporter": "python",
      "pygments_lexer": "ipython3",
      "version": "3.9.12"
    },
    "vscode": {
      "interpreter": {
        "hash": "b8e7999f96e1b425e2d542f21b571f5a4be3e97158b0b46ea1b2500df63956ce"
      }
    }
  },
  "nbformat": 4,
  "nbformat_minor": 0
}