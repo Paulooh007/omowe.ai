{
  "cells": [
    {
      "cell_type": "markdown",
      "metadata": {
        "id": "QR0WLeacoDZK"
      },
      "source": [
        "[![Open In Colab](https://colab.research.google.com/assets/colab-badge.svg)](https://colab.research.google.com/drive/10IXpo-HOHTym_9zJGibz1OyUYP9_qhLd?usp=sharing)"
      ]
    },
    {
      "cell_type": "code",
      "execution_count": null,
      "metadata": {
        "id": "Dlic9TAaRZOK"
      },
      "outputs": [],
      "source": [
        "!pip install -qU datasets==2.12.0 cohere 'pinecone-client[grpc]'"
      ]
    },
    {
      "cell_type": "code",
      "source": [
        "!pip install -qU apache_beam==2.44.0 mwparserfromhell"
      ],
      "metadata": {
        "id": "t0OuqoBD_d2u"
      },
      "execution_count": null,
      "outputs": []
    },
    {
      "cell_type": "code",
      "execution_count": null,
      "metadata": {
        "id": "ke0kEDaxRiKq"
      },
      "outputs": [],
      "source": [
        "from datasets import load_dataset\n",
        "\n",
        "en = load_dataset(\"Cohere/wikipedia-22-12\", \"en\", streaming=True)\n",
        "yo = load_dataset(\"wikipedia\", language=\"yo\", date=\"20221220\", beam_runner='DirectRunner')\n",
        "ig = load_dataset(\"wikipedia\", language=\"ig\", date=\"20221220\", beam_runner='DirectRunner')\n",
        "ha = load_dataset(\"wikipedia\", language=\"ha\", date=\"20221220\", beam_runner='DirectRunner')"
      ]
    },
    {
      "cell_type": "code",
      "source": [
        "!pip install -qU qdrant-client"
      ],
      "metadata": {
        "id": "cyZccemSAjVe"
      },
      "execution_count": null,
      "outputs": []
    },
    {
      "cell_type": "code",
      "source": [
        "print(len(yo[\"train\"]), len(ig[\"train\"]), len(ha[\"train\"]))"
      ],
      "metadata": {
        "colab": {
          "base_uri": "https://localhost:8080/"
        },
        "id": "s2S7McqaIzZ6",
        "outputId": "aaceb66d-b6f4-4c78-d48b-3346c15df3fc"
      },
      "execution_count": 4,
      "outputs": [
        {
          "output_type": "stream",
          "name": "stdout",
          "text": [
            "32394 14899 21029\n"
          ]
        }
      ]
    },
    {
      "cell_type": "code",
      "source": [
        "yo[\"train\"][0]"
      ],
      "metadata": {
        "colab": {
          "base_uri": "https://localhost:8080/"
        },
        "id": "c686w2fgy7UP",
        "outputId": "8d802abb-5875-4643-a1e8-69db9052dea2"
      },
      "execution_count": 22,
      "outputs": [
        {
          "output_type": "execute_result",
          "data": {
            "text/plain": [
              "{'id': '598',\n",
              " 'url': 'https://yo.wikipedia.org/wiki/A',\n",
              " 'title': 'A',\n",
              " 'text': 'el: άλφα\\n yo: a (ah)\\n\\naa ab ac ad ae af ag ah ai aj ak al am an ao ap aq ar as at au av aw ax ay az\\n\\na (1A) kan: I gave him a dog. (Mo fun un ní ajá kan).'}"
            ]
          },
          "metadata": {},
          "execution_count": 22
        }
      ]
    },
    {
      "cell_type": "code",
      "source": [
        "def add_lang(example, lang):\n",
        "    example[\"lang\"] = lang\n",
        "    return{'id': example[\"id\"],\n",
        "            'url': example[\"url\"],\n",
        "            'title': example[\"title\"],\n",
        "            'text': example[\"text\"],\n",
        "            \"lang\": example[\"lang\"]}\n",
        "\n",
        "# use the map() method to apply the function to each item in the dataset\n",
        "yo = yo[\"train\"].map(lambda example: add_lang(example, \"yo\"))\n",
        "ig = ig[\"train\"].map(lambda example: add_lang(example, \"ig\"))\n",
        "ha = ha[\"train\"].map(lambda example: add_lang(example, \"ha\"))\n",
        "\n",
        "# print the first item in the dataset to verify that the \"lang\" key has been added\n",
        "print(yo[0])\n"
      ],
      "metadata": {
        "colab": {
          "base_uri": "https://localhost:8080/",
          "height": 55,
          "referenced_widgets": [
            "6da26b586c25400e8e65010c43c3192f",
            "97deaf9344bb46458b375542b571ae87",
            "33e6de9cc939475c851650d3e31ba426",
            "c2f88f42339748b0b65bd42603c6474a",
            "4b87fe2b51264b95a0a0f001c9bbc468",
            "5897ba1797364f1fa34890385a33e28d",
            "ec9bc3e62bb14b3ca7a09aef0bb6d419",
            "43ab3625e6824eed993c6965a4f3d4bb",
            "724133fcc7244834ae8e6df10d64c2f3",
            "c4873c5df7a1467aa0f286df9cfdd465",
            "f57e0c0a7e4348e69e22d4fdac098076"
          ]
        },
        "id": "IabuwmozxiUO",
        "outputId": "d42a838a-04e2-4051-c7aa-ecd6be944618"
      },
      "execution_count": 4,
      "outputs": [
        {
          "output_type": "display_data",
          "data": {
            "text/plain": [
              "Map:   0%|          | 0/32394 [00:00<?, ? examples/s]"
            ],
            "application/vnd.jupyter.widget-view+json": {
              "version_major": 2,
              "version_minor": 0,
              "model_id": "6da26b586c25400e8e65010c43c3192f"
            }
          },
          "metadata": {}
        },
        {
          "output_type": "stream",
          "name": "stdout",
          "text": [
            "{'id': '598', 'url': 'https://yo.wikipedia.org/wiki/A', 'title': 'A', 'text': 'el: άλφα\\n yo: a (ah)\\n\\naa ab ac ad ae af ag ah ai aj ak al am an ao ap aq ar as at au av aw ax ay az\\n\\na (1A) kan: I gave him a dog. (Mo fun un ní ajá kan).', 'lang': 'yo'}\n"
          ]
        }
      ]
    },
    {
      "cell_type": "code",
      "source": [
        "[(i,x) for i,x in enumerate(yo) if x[\"url\"] == \"https://yo.wikipedia.org/wiki/L%C3%ADt%C3%ADr%C3%A9%E1%B9%A3%E1%BB%8D%CC%80\"]"
      ],
      "metadata": {
        "colab": {
          "base_uri": "https://localhost:8080/"
        },
        "id": "6_cOYQljCPEp",
        "outputId": "9d7cceed-ea13-4e82-a950-d78796ca2720"
      },
      "execution_count": 10,
      "outputs": [
        {
          "output_type": "execute_result",
          "data": {
            "text/plain": [
              "[(177,\n",
              "  {'id': '2821',\n",
              "   'url': 'https://yo.wikipedia.org/wiki/L%C3%ADt%C3%ADr%C3%A9%E1%B9%A3%E1%BB%8D%CC%80',\n",
              "   'title': 'Lítíréṣọ̀',\n",
              "   'text': 'Litireso tabi iṣẹ́ọnàmọ̀ọ́kọmọ̀ọ́kà\\n\\nOHUN TÍ LÍTÍRÉṢỌ̀ JẸ́\\n\\t\\nEléyìí náà kò ṣàì ní orírun tirẹ̀ láti inú èdè Látìn “LITERE” Èyí ni àwọn gẹ́ẹ́sì yá wọ inú èdè wọn tí wọ́n ń pè ni lete rature”\\nÌtumọ̀ tí a fún lítíréṣọ̀ máa ń yípadà láti ọ̀dọ̀ ẹ̀yà ènìyàn kan sí èkejì láti ìgbà dé ìgbà. Lítíréṣọ̀ kò dúró sójú kan.\\nBabalọlá (1986), ṣàpèjúwe lítíréṣọ̀ pé: \\n\\n“Àkójọpọ̀ ìjìnlẹ̀ ọ̀rọ̀ ní èdè kan tàbí òmíràn tó jásí ewì, ìtàn àlọ́, ìyànjú, eré onítàn, ìròyìn àti eré akọ́nilọ́gbọ́n lórí ìtàgé”\\n\\nTí a bá wo òde òní, ìtumọ̀ tí a fún lítíréṣọ̀ tún yàtọ̀, fún àpẹẹrẹ a máa ń ṣàkíyèsí ìlò èdè tí wọ́n fi kọ ìwé kan yàtọ̀ sí èyí, a tún ka lítíréṣọ̀ kùn iṣẹ́ òǹkọ̀wé alátinúdá tàbí iṣẹ́ tó ní í ṣe pẹ̀lú ọ̀rọ̀ ìlò ojú inú gẹ́gẹ́ bí ewì, ìtàn àròkọ àti eré oníṣe. A ó sì rí i pe awẹ́ tàbí ẹ̀yà lítíréṣọ̀ tí a mẹ̀nubà wọ̀nyí kó púpọ̀ nínú ìmọ̀ ìgbé ẹ̀dá láwújọ (folklore) mọ́ ara, yálà, a kọ, ọ́ sílẹ̀, a rò ó sọ tàbí a ṣe é léré yàtọ̀ fún àwọn àkọọ́ lẹ̀ iṣẹ́ ọwọ́.\\n\\tLítírésọ̀ tún jẹ́ irúfẹ́ àkọọ́lẹ̀ tó ní àbùdá ẹ̀mí gígùn, ó máa ń fi ìṣẹ̀ṣe àti àṣà àgbáríjọ àwọn èèyàn kan hàn.\\nÀwọn míràn tó tún sọ̀rọ̀ lórí lítíréṣọ̀ ni àwọn ọmọ lẹ́yìn Mark: Àwọn Marxist (1977) yìí gbà pé:\\n\\n“Scrutiny of the literature could not be realize without the society”\\n\\nÈyí ni pé:\\n\\n“Lítíréṣọ̀ kò lè ṣe é dá yẹ̀wò láìwo àwùjọ tí a kọ ọ́ fún”\\n\\nKí òǹkọ̀wé kan tó lè se iṣẹ́ rẹ̀ ní àṣeyanjú, irúfẹ́ oǹkọ̀wé náà gbọ́dọ̀ ni àtinúdá àtinúdá yìí pẹ̀lú ohun gan-an tí ó ń ṣelẹ̀ láwùjọ ni yóò wá sọ di ọ̀kan nínú iṣẹ́ rẹ̀.\\nLara àwọn tí ó ṣiṣẹ́ lórí ìlànà Marx yìí ni: Trosky ara Russia, Lucas àti Goldmann. \\nDaviguand (1960) ni tíọ́rì sọ pé \\n\\n“Literature enumerate the future thought of an individual (Human being)\\n\\nÈyí ni pé:\\n\\n“Lítíréṣọ̀ wà fún láti máa so èrò ọkàn ènìyàn jáde nípa ọjọ́ iwájú”\\n\\nNípa yíyẹ lítíréṣọ̀ wò, à ní láti wo ẹ̀hun ìpìlẹ̀ ìtumọ̀, èyí ni wíwo gbogbo nǹkan tí ó wà láwùjọ yẹn olápapọ̀ láì dá ọ̀kan sí.\\n\\nE tun wo\\nIṣẹ́ọnàmọ̀ọ́kọmọ̀ọ́kà èdè Yorùbá\\nIṣẹ́ọnàmọ̀ọ́kọmọ̀ọ́kà èdè Gẹ̀ẹ́sì\\n\\nItokasi',\n",
              "   'lang': 'yo'})]"
            ]
          },
          "metadata": {},
          "execution_count": 10
        }
      ]
    },
    {
      "cell_type": "code",
      "execution_count": 10,
      "metadata": {
        "colab": {
          "base_uri": "https://localhost:8080/"
        },
        "id": "RacgHwwX7T3D",
        "outputId": "9529def7-85a4-4fa4-d738-d38089a88d80"
      },
      "outputs": [
        {
          "output_type": "execute_result",
          "data": {
            "text/plain": [
              "{'id': 0,\n",
              " 'title': 'Deaths in 2022',\n",
              " 'text': 'The following notable deaths occurred in 2022. Names are reported under the date of death, in alphabetical order. A typical entry reports information in the following sequence:',\n",
              " 'url': 'https://en.wikipedia.org/wiki?curid=69407798',\n",
              " 'wiki_id': 69407798,\n",
              " 'views': 5674.4492597435465,\n",
              " 'paragraph_id': 0,\n",
              " 'langs': 38}"
            ]
          },
          "metadata": {},
          "execution_count": 10
        }
      ],
      "source": [
        "next(iter(en['train']))"
      ]
    },
    {
      "cell_type": "code",
      "source": [
        "import os\n",
        "import cohere\n",
        "from qdrant_client import QdrantClient\n",
        "from qdrant_client import models\n",
        "from qdrant_client.http import models as rest"
      ],
      "metadata": {
        "id": "pKmqCd0fHXdf"
      },
      "execution_count": 12,
      "outputs": []
    },
    {
      "cell_type": "code",
      "source": [
        "# load environment variables\n",
        "\n",
        "QDRANT_API_KEY = \"\"\n",
        "COHERE_API_KEY = \"\" "
      ],
      "metadata": {
        "id": "0ucaxu2THcap"
      },
      "execution_count": 13,
      "outputs": []
    },
    {
      "cell_type": "code",
      "source": [
        "co = cohere.Client(COHERE_API_KEY)"
      ],
      "metadata": {
        "id": "bhfDjOCzHx3a"
      },
      "execution_count": 14,
      "outputs": []
    },
    {
      "cell_type": "code",
      "source": [
        "embeddings = co.embed(\n",
        "    texts=[\"A test sentence\"],\n",
        "    model=\"multilingual-22-12\",\n",
        ")\n",
        "vector_size = len(embeddings.embeddings[0])\n",
        "vector_size"
      ],
      "metadata": {
        "colab": {
          "base_uri": "https://localhost:8080/"
        },
        "id": "UdVpwTxAH3tx",
        "outputId": "1da349cb-48fd-4a62-d05b-32a22cabb2de"
      },
      "execution_count": 81,
      "outputs": [
        {
          "output_type": "execute_result",
          "data": {
            "text/plain": [
              "768"
            ]
          },
          "metadata": {},
          "execution_count": 81
        }
      ]
    },
    {
      "cell_type": "code",
      "source": [
        "qdrant_client = QdrantClient(\n",
        "    url=\"https://abe27875-57da-4af8-85f9-2a50b4aaaf19.us-east-1-0.aws.cloud.qdrant.io:6333\", \n",
        "    api_key=QDRANT_API_KEY,\n",
        "    prefer_grpc=True,\n",
        ")"
      ],
      "metadata": {
        "id": "gp1D_VOEH3qf"
      },
      "execution_count": 15,
      "outputs": []
    },
    {
      "cell_type": "code",
      "source": [
        "# qdrant_client.recreate_collection(\n",
        "#     collection_name=\"wiki-embed\",\n",
        "#     vectors_config=models.VectorParams(\n",
        "#         size=vector_size, \n",
        "#         distance=rest.Distance.DOT\n",
        "#     ),\n",
        "# )"
      ],
      "metadata": {
        "colab": {
          "base_uri": "https://localhost:8080/"
        },
        "id": "rw6QH9MBH3na",
        "outputId": "ffefbe5d-9f7e-4263-a5a5-3e345f460a59"
      },
      "execution_count": 90,
      "outputs": [
        {
          "output_type": "execute_result",
          "data": {
            "text/plain": [
              "True"
            ]
          },
          "metadata": {},
          "execution_count": 90
        }
      ]
    },
    {
      "cell_type": "code",
      "source": [
        "import itertools\n",
        "import datasets\n",
        "\n",
        "en_slice = itertools.islice(en[\"train\"], 2500)\n",
        "en_2500_list = list(en_slice)\n",
        "\n",
        "my_list_dicts = [{\"id\": item[\"id\"], \"title\": item[\"title\"], \"text\": item[\"text\"], \"url\": item[\"url\"], \"wiki_id\": item[\"wiki_id\"], \"views\": item[\"views\"], \"paragraph_id\": item[\"paragraph_id\"], \"langs\": item[\"langs\"], \"lang\": \"en\"} for item in en_2500_list]\n",
        "\n",
        "# create a new Dataset object from the list of dictionaries\n",
        "en_2500 = datasets.Dataset.from_dict({\"id\": [item[\"id\"] for item in my_list_dicts],\n",
        "                                           \"title\": [item[\"title\"] for item in my_list_dicts],\n",
        "                                           \"text\": [item[\"text\"] for item in my_list_dicts],\n",
        "                                           \"url\": [item[\"url\"] for item in my_list_dicts],\n",
        "                                           \"wiki_id\": [item[\"wiki_id\"] for item in my_list_dicts],\n",
        "                                           \"views\": [item[\"views\"] for item in my_list_dicts],\n",
        "                                           \"paragraph_id\": [item[\"paragraph_id\"] for item in my_list_dicts],\n",
        "                                           \"langs\": [item[\"langs\"] for item in my_list_dicts],\n",
        "                                           \"lang\": [item[\"lang\"] for item in my_list_dicts]})\n",
        "\n"
      ],
      "metadata": {
        "id": "X5UAyhrmSLKp"
      },
      "execution_count": 157,
      "outputs": []
    },
    {
      "cell_type": "code",
      "source": [
        "yo_2500 = yo.select(range(2500))\n",
        "ig_2500 = ig.select(range(2500))\n",
        "ha_2500 = ha.select(range(2500))"
      ],
      "metadata": {
        "id": "x1U1pmheXa2-"
      },
      "execution_count": 91,
      "outputs": []
    },
    {
      "cell_type": "code",
      "source": [
        "len(ig_2500[\"text\"])"
      ],
      "metadata": {
        "colab": {
          "base_uri": "https://localhost:8080/"
        },
        "id": "9GcKie5bYMHg",
        "outputId": "f4d66a36-4915-4e34-b403-0fbbc0bd453c"
      },
      "execution_count": 111,
      "outputs": [
        {
          "output_type": "execute_result",
          "data": {
            "text/plain": [
              "2500"
            ]
          },
          "metadata": {},
          "execution_count": 111
        }
      ]
    },
    {
      "cell_type": "code",
      "source": [
        "ig_2500[0]"
      ],
      "metadata": {
        "colab": {
          "base_uri": "https://localhost:8080/"
        },
        "id": "-NTlK9vyYlrL",
        "outputId": "f697ecfc-1e55-4e80-9bc4-85f1af5c8093"
      },
      "execution_count": 112,
      "outputs": [
        {
          "output_type": "execute_result",
          "data": {
            "text/plain": [
              "{'id': '918',\n",
              " 'url': 'https://ig.wikipedia.org/wiki/Chineke',\n",
              " 'title': 'Chineke',\n",
              " 'text': 'Chineke bụ aha ọzọ ndi Igbo n\\' omenala Igbo kpọrọ Chukwu. Mgbe ndị bekee bịara, ha mee ya nke ndi okpukpere ụka. N\\'echiche ndi okpukpere chi nke Omenala Ndi Igbo, Christianity, Judaism, ma Islam, Chineke nwere ọtụtụ utu aha, ma nwee nanị otu aha. Ụzọ abụọ e si akpọ aha ahụ bụ \"Jehovah maọbụ Yahweh\". N\\' ọtụtụ Akwụkwọ Nsọ, e wepụla aha Chineke ma jiri utu aha bụ \"Onyenwe Anyị\" maọbụ \"Chineke\" dochie ya. Ma mgbe e dere akwụkwọ nsọ, aha ahụ bụ Jehova pụtara n’ime ya, ihe dịka ugboro pụkụ asaa(7,000).\\n\\nN\\'ime akwụkwọ nsọ nke ọhụrụ nke edere n\\'asụsụ ndi girik, aha Chineke, dika Jehova na Yaweh apụtaghi, kama aha ya n\\'ọnọdụ dika \"Onyenwe Anyi\" ya na \"Chineke\" pụtara nke ụkwụ. N\\'eto nụ aha nsọ Chineke nna anyi n\\'asụsụ ọbula n\\'ime mmụọ n\\' eziokwụ. Maka na amara ya gbara ndi n\\'eso ụzọ ya gburu gburu.\\n\\nLeekwa\\n Chukwu\\n\\nÉféfé',\n",
              " 'lang': 'ig'}"
            ]
          },
          "metadata": {},
          "execution_count": 112
        }
      ]
    },
    {
      "cell_type": "code",
      "source": [
        "type(yo)"
      ],
      "metadata": {
        "colab": {
          "base_uri": "https://localhost:8080/"
        },
        "id": "qwieabzG05jB",
        "outputId": "97888971-5afa-49d4-c759-20179287cc99"
      },
      "execution_count": 62,
      "outputs": [
        {
          "output_type": "execute_result",
          "data": {
            "text/plain": [
              "datasets.arrow_dataset.Dataset"
            ]
          },
          "metadata": {},
          "execution_count": 62
        }
      ]
    },
    {
      "cell_type": "code",
      "source": [
        "MLLM_MODEL = \"multilingual-22-12\""
      ],
      "metadata": {
        "id": "h4H1d22uBglX"
      },
      "execution_count": 18,
      "outputs": []
    },
    {
      "cell_type": "code",
      "source": [
        "def embed_dataset(dataset):\n",
        "  MLLM_MODEL = \"multilingual-22-12\"\n",
        "  docs = dataset[\"text\"]\n",
        "\n",
        "  doc_response = co.embed(\n",
        "      texts= docs,\n",
        "      model=MLLM_MODEL,\n",
        "  )\n",
        "  vectors = [list(map(float, vector)) for vector in doc_response.embeddings]\n",
        "  ids = [int(x[\"id\"]) for x in dataset]\n",
        "\n",
        "  return vectors, ids\n",
        "\n"
      ],
      "metadata": {
        "id": "NgP-SRdBAL28"
      },
      "execution_count": 110,
      "outputs": []
    },
    {
      "cell_type": "code",
      "source": [
        "def upsert_embedings(dataset, vectors, ids):\n",
        "  qdrant_client.upsert(\n",
        "        collection_name=\"wiki-embed\", \n",
        "        points=rest.Batch(\n",
        "            ids=ids,\n",
        "            vectors=vectors,\n",
        "            payloads=list(dataset),\n",
        "        ))\n"
      ],
      "metadata": {
        "id": "wBbYWorLAzx7"
      },
      "execution_count": 97,
      "outputs": []
    },
    {
      "cell_type": "code",
      "source": [
        "en_2500[0].keys()"
      ],
      "metadata": {
        "colab": {
          "base_uri": "https://localhost:8080/"
        },
        "id": "XLcCl9ikTusz",
        "outputId": "6713249c-331c-4118-eac9-952c0f9a4c60"
      },
      "execution_count": 156,
      "outputs": [
        {
          "output_type": "execute_result",
          "data": {
            "text/plain": [
              "dict_keys(['id', 'title', 'text', 'url', 'wiki_id', 'views', 'paragraph_id', 'langs'])"
            ]
          },
          "metadata": {},
          "execution_count": 156
        }
      ]
    },
    {
      "cell_type": "code",
      "source": [
        "vectors, ids = embed_dataset(en_2500)"
      ],
      "metadata": {
        "id": "gmfEYNp6AgKK"
      },
      "execution_count": 159,
      "outputs": []
    },
    {
      "cell_type": "code",
      "source": [
        "upsert_embedings(en_2500, vectors, ids)"
      ],
      "metadata": {
        "id": "4E01-VehBDVx"
      },
      "execution_count": 160,
      "outputs": []
    },
    {
      "cell_type": "code",
      "source": [
        "def query_knowledge_base(question, lang = None):\n",
        "  query_embeddings = co.embed(\n",
        "    texts=[question],\n",
        "    model=MLLM_MODEL,\n",
        "  )\n",
        "  query_filter = None\n",
        "\n",
        "\n",
        "  if lang:\n",
        "    query_filter = models.Filter(\n",
        "        must=[\n",
        "            models.FieldCondition(\n",
        "                key=\"lang\",\n",
        "                match=models.MatchValue(\n",
        "                    value=\"yo\",\n",
        "                ),\n",
        "            )\n",
        "        ]\n",
        "    )\n",
        "\n",
        "  result = qdrant_client.search(\n",
        "    collection_name=\"wiki-embed\",\n",
        "    query_filter = query_filter, \n",
        "    search_params=models.SearchParams(\n",
        "        hnsw_ef=128,\n",
        "        exact=False\n",
        "    ),\n",
        "    query_vector=query_embeddings.embeddings[0],\n",
        "    limit=10,\n",
        "  )\n",
        "\n",
        "  return result\n",
        "\n",
        "\n"
      ],
      "metadata": {
        "id": "UalCJ4zw6_VQ"
      },
      "execution_count": 19,
      "outputs": []
    },
    {
      "cell_type": "code",
      "source": [
        "result = query_knowledge_base(\"What is Literature\")"
      ],
      "metadata": {
        "id": "IbxJp6Cu8pl1"
      },
      "execution_count": 20,
      "outputs": []
    },
    {
      "cell_type": "code",
      "source": [
        "# https://yo.wikipedia.org/wiki/%C3%8Ct%C3%A0n_il%E1%BA%B9%CC%80_N%C3%A0%C3%ACj%C3%ADr%C3%AD%C3%A0"
      ],
      "metadata": {
        "id": "27wr4509-Nyt"
      },
      "execution_count": 39,
      "outputs": []
    },
    {
      "cell_type": "code",
      "source": [
        "# Who is Samuel Ajaji Crowder\n",
        "# Tell me about Chinua Achebe and his works\n",
        "# Who was president between 2015 and ----\n",
        "# I want to know the past presidents of America"
      ],
      "metadata": {
        "id": "7yR_57QIawJc"
      },
      "execution_count": 40,
      "outputs": []
    },
    {
      "cell_type": "code",
      "source": [
        "for _ in range(10):\n",
        "  print(result[_].payload[\"url\"])"
      ],
      "metadata": {
        "colab": {
          "base_uri": "https://localhost:8080/"
        },
        "id": "SAJ8HsQCa_Cn",
        "outputId": "f8aa6865-3c5b-422b-9900-b6fff5452baa"
      },
      "execution_count": 21,
      "outputs": [
        {
          "output_type": "stream",
          "name": "stdout",
          "text": [
            "https://yo.wikipedia.org/wiki/L%C3%ADt%C3%ADr%C3%A9%E1%B9%A3%E1%BB%8D%CC%80\n",
            "https://en.wikipedia.org/wiki?curid=31717\n",
            "https://yo.wikipedia.org/wiki/%C3%8Cw%C3%A9%20%E1%BA%B8%CC%81sr%C3%A0\n",
            "https://ha.wikipedia.org/wiki/Littafi\n",
            "https://yo.wikipedia.org/wiki/K%C3%AD%20ni%20f%C3%AD%C3%ACm%C3%B9%3F\n",
            "https://yo.wikipedia.org/wiki/%C3%8Ct%C3%A0n\n",
            "https://yo.wikipedia.org/wiki/%C3%8Cw%C3%A9%20%E1%BA%B8%CC%81st%C3%A9r%C3%AC\n",
            "https://en.wikipedia.org/wiki?curid=31750\n",
            "https://ig.wikipedia.org/wiki/Ak%E1%BB%A5k%E1%BB%8Dnd%E1%BB%A5%CC%80onye\n",
            "https://ha.wikipedia.org/wiki/%D0%9B\n"
          ]
        }
      ]
    },
    {
      "cell_type": "code",
      "source": [
        " text = \"\"\"\n",
        "Photosynthesis is a process used by plants and other organisms to convert light energy into chemical energy that, through cellular respiration, can later be released to fuel the organism's activities. Some of this chemical energy is stored in carbohydrate molecules, such as sugars and starches, which are synthesized from carbon dioxide and water – hence the name photosynthesis, from the Greek phōs (φῶς), \"light\", and synthesis (σύνθεσις), \"putting together\".[1][2][3] Most plants, algae, and cyanobacteria perform photosynthesis; such organisms are called photoautotrophs. Photosynthesis is largely responsible for producing and maintaining the oxygen content of the Earth's atmosphere, and supplies most of the energy necessary for life on Earth.[4]\n",
        "\n",
        "Although photosynthesis is performed differently by different species, the process always begins when energy from light is absorbed by proteins called reaction centers that contain green chlorophyll (and other colored) pigments/chromophores. In plants, these proteins are held inside organelles called chloroplasts, which are most abundant in leaf cells, while in bacteria they are embedded in the plasma membrane. In these light-dependent reactions, some energy is used to strip electrons from suitable substances, such as water, producing oxygen gas. The hydrogen freed by the splitting of water is used in the creation of two further compounds that serve as short-term stores of energy, enabling its transfer to drive other reactions: these compounds are reduced nicotinamide adenine dinucleotide phosphate (NADPH) and adenosine triphosphate (ATP), the \"energy currency\" of cells.\n",
        "\n",
        "In plants, algae and cyanobacteria, sugars are synthesized by a subsequent sequence of light-independent reactions called the Calvin cycle. In the Calvin cycle, atmospheric carbon dioxide is incorporated into already existing organic carbon compounds, such as ribulose bisphosphate (RuBP).[5] Using the ATP and NADPH produced by the light-dependent reactions, the resulting compounds are then reduced and removed to form further carbohydrates, such as glucose. In other bacteria, different mechanisms such as the reverse Krebs cycle are used to achieve the same end.\n",
        "\"\"\""
      ],
      "metadata": {
        "id": "TSmssyFxl4LZ"
      },
      "execution_count": 90,
      "outputs": []
    },
    {
      "cell_type": "code",
      "source": [],
      "metadata": {
        "id": "n2Mck-xImbmq"
      },
      "execution_count": null,
      "outputs": []
    },
    {
      "cell_type": "code",
      "source": [
        "response = co.summarize(\n",
        "    text= text,\n",
        "    model='summarize-xlarge',\n",
        "    length='medium',\n",
        "    format='bullets',\n",
        "    extractiveness='high',\n",
        "    temperature=0.3,\n",
        "    additional_command=None,\n",
        ")"
      ],
      "metadata": {
        "id": "VNhABahLl1WJ"
      },
      "execution_count": 92,
      "outputs": []
    },
    {
      "cell_type": "code",
      "source": [
        "response.summary"
      ],
      "metadata": {
        "colab": {
          "base_uri": "https://localhost:8080/",
          "height": 107
        },
        "id": "58s8xa8qmmKK",
        "outputId": "e5c9f1ea-9975-48a6-c3c7-0e5a2ac70f28"
      },
      "execution_count": 93,
      "outputs": [
        {
          "output_type": "execute_result",
          "data": {
            "text/plain": [
              "'- Photosynthesis is a process used by plants and other organisms to convert light energy into chemical energy that, through cellular respiration, can later be released to fuel the organism\\'s activities.\\n- Some of this chemical energy is stored in carbohydrate molecules, such as sugars and starches, which are synthesized from carbon dioxide and water – hence the name photosynthesis, from the Greek phōs (φῶς), \"light\", and synthesis (σύνθεσις), \"putting together\".\\n- Most plants, algae, and cyanobacteria perform photosynthesis; such organisms are called photoautotrophs.\\n- Photosynthesis is largely responsible for producing and maintaining the oxygen content of the Earth\\'s atmosphere, and supplies most of the energy necessary for life on Earth.'"
            ],
            "application/vnd.google.colaboratory.intrinsic+json": {
              "type": "string"
            }
          },
          "metadata": {},
          "execution_count": 93
        }
      ]
    },
    {
      "cell_type": "markdown",
      "metadata": {
        "id": "AB392qq0oDZb"
      },
      "source": [
        "---"
      ]
    }
  ],
  "metadata": {
    "colab": {
      "provenance": []
    },
    "kernelspec": {
      "display_name": "ml",
      "language": "python",
      "name": "python3"
    },
    "language_info": {
      "codemirror_mode": {
        "name": "ipython",
        "version": 3
      },
      "file_extension": ".py",
      "mimetype": "text/x-python",
      "name": "python",
      "nbconvert_exporter": "python",
      "pygments_lexer": "ipython3",
      "version": "3.9.12"
    },
    "vscode": {
      "interpreter": {
        "hash": "b8e7999f96e1b425e2d542f21b571f5a4be3e97158b0b46ea1b2500df63956ce"
      }
    },
    "widgets": {
      "application/vnd.jupyter.widget-state+json": {
        "6da26b586c25400e8e65010c43c3192f": {
          "model_module": "@jupyter-widgets/controls",
          "model_name": "HBoxModel",
          "model_module_version": "1.5.0",
          "state": {
            "_dom_classes": [],
            "_model_module": "@jupyter-widgets/controls",
            "_model_module_version": "1.5.0",
            "_model_name": "HBoxModel",
            "_view_count": null,
            "_view_module": "@jupyter-widgets/controls",
            "_view_module_version": "1.5.0",
            "_view_name": "HBoxView",
            "box_style": "",
            "children": [
              "IPY_MODEL_97deaf9344bb46458b375542b571ae87",
              "IPY_MODEL_33e6de9cc939475c851650d3e31ba426",
              "IPY_MODEL_c2f88f42339748b0b65bd42603c6474a"
            ],
            "layout": "IPY_MODEL_4b87fe2b51264b95a0a0f001c9bbc468"
          }
        },
        "97deaf9344bb46458b375542b571ae87": {
          "model_module": "@jupyter-widgets/controls",
          "model_name": "HTMLModel",
          "model_module_version": "1.5.0",
          "state": {
            "_dom_classes": [],
            "_model_module": "@jupyter-widgets/controls",
            "_model_module_version": "1.5.0",
            "_model_name": "HTMLModel",
            "_view_count": null,
            "_view_module": "@jupyter-widgets/controls",
            "_view_module_version": "1.5.0",
            "_view_name": "HTMLView",
            "description": "",
            "description_tooltip": null,
            "layout": "IPY_MODEL_5897ba1797364f1fa34890385a33e28d",
            "placeholder": "​",
            "style": "IPY_MODEL_ec9bc3e62bb14b3ca7a09aef0bb6d419",
            "value": "Map: 100%"
          }
        },
        "33e6de9cc939475c851650d3e31ba426": {
          "model_module": "@jupyter-widgets/controls",
          "model_name": "FloatProgressModel",
          "model_module_version": "1.5.0",
          "state": {
            "_dom_classes": [],
            "_model_module": "@jupyter-widgets/controls",
            "_model_module_version": "1.5.0",
            "_model_name": "FloatProgressModel",
            "_view_count": null,
            "_view_module": "@jupyter-widgets/controls",
            "_view_module_version": "1.5.0",
            "_view_name": "ProgressView",
            "bar_style": "",
            "description": "",
            "description_tooltip": null,
            "layout": "IPY_MODEL_43ab3625e6824eed993c6965a4f3d4bb",
            "max": 32394,
            "min": 0,
            "orientation": "horizontal",
            "style": "IPY_MODEL_724133fcc7244834ae8e6df10d64c2f3",
            "value": 32394
          }
        },
        "c2f88f42339748b0b65bd42603c6474a": {
          "model_module": "@jupyter-widgets/controls",
          "model_name": "HTMLModel",
          "model_module_version": "1.5.0",
          "state": {
            "_dom_classes": [],
            "_model_module": "@jupyter-widgets/controls",
            "_model_module_version": "1.5.0",
            "_model_name": "HTMLModel",
            "_view_count": null,
            "_view_module": "@jupyter-widgets/controls",
            "_view_module_version": "1.5.0",
            "_view_name": "HTMLView",
            "description": "",
            "description_tooltip": null,
            "layout": "IPY_MODEL_c4873c5df7a1467aa0f286df9cfdd465",
            "placeholder": "​",
            "style": "IPY_MODEL_f57e0c0a7e4348e69e22d4fdac098076",
            "value": " 32394/32394 [00:04&lt;00:00, 6297.87 examples/s]"
          }
        },
        "4b87fe2b51264b95a0a0f001c9bbc468": {
          "model_module": "@jupyter-widgets/base",
          "model_name": "LayoutModel",
          "model_module_version": "1.2.0",
          "state": {
            "_model_module": "@jupyter-widgets/base",
            "_model_module_version": "1.2.0",
            "_model_name": "LayoutModel",
            "_view_count": null,
            "_view_module": "@jupyter-widgets/base",
            "_view_module_version": "1.2.0",
            "_view_name": "LayoutView",
            "align_content": null,
            "align_items": null,
            "align_self": null,
            "border": null,
            "bottom": null,
            "display": null,
            "flex": null,
            "flex_flow": null,
            "grid_area": null,
            "grid_auto_columns": null,
            "grid_auto_flow": null,
            "grid_auto_rows": null,
            "grid_column": null,
            "grid_gap": null,
            "grid_row": null,
            "grid_template_areas": null,
            "grid_template_columns": null,
            "grid_template_rows": null,
            "height": null,
            "justify_content": null,
            "justify_items": null,
            "left": null,
            "margin": null,
            "max_height": null,
            "max_width": null,
            "min_height": null,
            "min_width": null,
            "object_fit": null,
            "object_position": null,
            "order": null,
            "overflow": null,
            "overflow_x": null,
            "overflow_y": null,
            "padding": null,
            "right": null,
            "top": null,
            "visibility": "hidden",
            "width": null
          }
        },
        "5897ba1797364f1fa34890385a33e28d": {
          "model_module": "@jupyter-widgets/base",
          "model_name": "LayoutModel",
          "model_module_version": "1.2.0",
          "state": {
            "_model_module": "@jupyter-widgets/base",
            "_model_module_version": "1.2.0",
            "_model_name": "LayoutModel",
            "_view_count": null,
            "_view_module": "@jupyter-widgets/base",
            "_view_module_version": "1.2.0",
            "_view_name": "LayoutView",
            "align_content": null,
            "align_items": null,
            "align_self": null,
            "border": null,
            "bottom": null,
            "display": null,
            "flex": null,
            "flex_flow": null,
            "grid_area": null,
            "grid_auto_columns": null,
            "grid_auto_flow": null,
            "grid_auto_rows": null,
            "grid_column": null,
            "grid_gap": null,
            "grid_row": null,
            "grid_template_areas": null,
            "grid_template_columns": null,
            "grid_template_rows": null,
            "height": null,
            "justify_content": null,
            "justify_items": null,
            "left": null,
            "margin": null,
            "max_height": null,
            "max_width": null,
            "min_height": null,
            "min_width": null,
            "object_fit": null,
            "object_position": null,
            "order": null,
            "overflow": null,
            "overflow_x": null,
            "overflow_y": null,
            "padding": null,
            "right": null,
            "top": null,
            "visibility": null,
            "width": null
          }
        },
        "ec9bc3e62bb14b3ca7a09aef0bb6d419": {
          "model_module": "@jupyter-widgets/controls",
          "model_name": "DescriptionStyleModel",
          "model_module_version": "1.5.0",
          "state": {
            "_model_module": "@jupyter-widgets/controls",
            "_model_module_version": "1.5.0",
            "_model_name": "DescriptionStyleModel",
            "_view_count": null,
            "_view_module": "@jupyter-widgets/base",
            "_view_module_version": "1.2.0",
            "_view_name": "StyleView",
            "description_width": ""
          }
        },
        "43ab3625e6824eed993c6965a4f3d4bb": {
          "model_module": "@jupyter-widgets/base",
          "model_name": "LayoutModel",
          "model_module_version": "1.2.0",
          "state": {
            "_model_module": "@jupyter-widgets/base",
            "_model_module_version": "1.2.0",
            "_model_name": "LayoutModel",
            "_view_count": null,
            "_view_module": "@jupyter-widgets/base",
            "_view_module_version": "1.2.0",
            "_view_name": "LayoutView",
            "align_content": null,
            "align_items": null,
            "align_self": null,
            "border": null,
            "bottom": null,
            "display": null,
            "flex": null,
            "flex_flow": null,
            "grid_area": null,
            "grid_auto_columns": null,
            "grid_auto_flow": null,
            "grid_auto_rows": null,
            "grid_column": null,
            "grid_gap": null,
            "grid_row": null,
            "grid_template_areas": null,
            "grid_template_columns": null,
            "grid_template_rows": null,
            "height": null,
            "justify_content": null,
            "justify_items": null,
            "left": null,
            "margin": null,
            "max_height": null,
            "max_width": null,
            "min_height": null,
            "min_width": null,
            "object_fit": null,
            "object_position": null,
            "order": null,
            "overflow": null,
            "overflow_x": null,
            "overflow_y": null,
            "padding": null,
            "right": null,
            "top": null,
            "visibility": null,
            "width": null
          }
        },
        "724133fcc7244834ae8e6df10d64c2f3": {
          "model_module": "@jupyter-widgets/controls",
          "model_name": "ProgressStyleModel",
          "model_module_version": "1.5.0",
          "state": {
            "_model_module": "@jupyter-widgets/controls",
            "_model_module_version": "1.5.0",
            "_model_name": "ProgressStyleModel",
            "_view_count": null,
            "_view_module": "@jupyter-widgets/base",
            "_view_module_version": "1.2.0",
            "_view_name": "StyleView",
            "bar_color": null,
            "description_width": ""
          }
        },
        "c4873c5df7a1467aa0f286df9cfdd465": {
          "model_module": "@jupyter-widgets/base",
          "model_name": "LayoutModel",
          "model_module_version": "1.2.0",
          "state": {
            "_model_module": "@jupyter-widgets/base",
            "_model_module_version": "1.2.0",
            "_model_name": "LayoutModel",
            "_view_count": null,
            "_view_module": "@jupyter-widgets/base",
            "_view_module_version": "1.2.0",
            "_view_name": "LayoutView",
            "align_content": null,
            "align_items": null,
            "align_self": null,
            "border": null,
            "bottom": null,
            "display": null,
            "flex": null,
            "flex_flow": null,
            "grid_area": null,
            "grid_auto_columns": null,
            "grid_auto_flow": null,
            "grid_auto_rows": null,
            "grid_column": null,
            "grid_gap": null,
            "grid_row": null,
            "grid_template_areas": null,
            "grid_template_columns": null,
            "grid_template_rows": null,
            "height": null,
            "justify_content": null,
            "justify_items": null,
            "left": null,
            "margin": null,
            "max_height": null,
            "max_width": null,
            "min_height": null,
            "min_width": null,
            "object_fit": null,
            "object_position": null,
            "order": null,
            "overflow": null,
            "overflow_x": null,
            "overflow_y": null,
            "padding": null,
            "right": null,
            "top": null,
            "visibility": null,
            "width": null
          }
        },
        "f57e0c0a7e4348e69e22d4fdac098076": {
          "model_module": "@jupyter-widgets/controls",
          "model_name": "DescriptionStyleModel",
          "model_module_version": "1.5.0",
          "state": {
            "_model_module": "@jupyter-widgets/controls",
            "_model_module_version": "1.5.0",
            "_model_name": "DescriptionStyleModel",
            "_view_count": null,
            "_view_module": "@jupyter-widgets/base",
            "_view_module_version": "1.2.0",
            "_view_name": "StyleView",
            "description_width": ""
          }
        }
      }
    }
  },
  "nbformat": 4,
  "nbformat_minor": 0
}
